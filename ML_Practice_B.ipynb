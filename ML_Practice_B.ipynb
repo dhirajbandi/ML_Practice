{
 "cells": [
  {
   "cell_type": "code",
   "execution_count": 1,
   "id": "e1da6353",
   "metadata": {
    "_cell_guid": "b1076dfc-b9ad-4769-8c92-a6c4dae69d19",
    "_uuid": "8f2839f25d086af736a60e9eeb907d3b93b6e0e5",
    "execution": {
     "iopub.execute_input": "2024-07-08T12:33:11.250880Z",
     "iopub.status.busy": "2024-07-08T12:33:11.250469Z",
     "iopub.status.idle": "2024-07-08T12:33:12.254510Z",
     "shell.execute_reply": "2024-07-08T12:33:12.253205Z"
    },
    "papermill": {
     "duration": 1.013294,
     "end_time": "2024-07-08T12:33:12.257215",
     "exception": false,
     "start_time": "2024-07-08T12:33:11.243921",
     "status": "completed"
    },
    "tags": []
   },
   "outputs": [
    {
     "name": "stdout",
     "output_type": "stream",
     "text": [
      "/kaggle/input/house-prices-advanced-regression-techniques/sample_submission.csv\n",
      "/kaggle/input/house-prices-advanced-regression-techniques/data_description.txt\n",
      "/kaggle/input/house-prices-advanced-regression-techniques/train.csv\n",
      "/kaggle/input/house-prices-advanced-regression-techniques/test.csv\n"
     ]
    }
   ],
   "source": [
    "# This Python 3 environment comes with many helpful analytics libraries installed\n",
    "# It is defined by the kaggle/python Docker image: https://github.com/kaggle/docker-python\n",
    "# For example, here's several helpful packages to load\n",
    "\n",
    "import numpy as np # linear algebra\n",
    "import pandas as pd # data processing, CSV file I/O (e.g. pd.read_csv)\n",
    "\n",
    "# Input data files are available in the read-only \"../input/\" directory\n",
    "# For example, running this (by clicking run or pressing Shift+Enter) will list all files under the input directory\n",
    "\n",
    "import os\n",
    "for dirname, _, filenames in os.walk('/kaggle/input'):\n",
    "    for filename in filenames:\n",
    "        print(os.path.join(dirname, filename))\n",
    "\n",
    "# You can write up to 20GB to the current directory (/kaggle/working/) that gets preserved as output when you create a version using \"Save & Run All\" \n",
    "# You can also write temporary files to /kaggle/temp/, but they won't be saved outside of the current session"
   ]
  },
  {
   "cell_type": "code",
   "execution_count": 2,
   "id": "323d7c7a",
   "metadata": {
    "execution": {
     "iopub.execute_input": "2024-07-08T12:33:12.268829Z",
     "iopub.status.busy": "2024-07-08T12:33:12.268287Z",
     "iopub.status.idle": "2024-07-08T12:33:12.335965Z",
     "shell.execute_reply": "2024-07-08T12:33:12.334264Z"
    },
    "papermill": {
     "duration": 0.076378,
     "end_time": "2024-07-08T12:33:12.338698",
     "exception": false,
     "start_time": "2024-07-08T12:33:12.262320",
     "status": "completed"
    },
    "tags": []
   },
   "outputs": [
    {
     "name": "stdout",
     "output_type": "stream",
     "text": [
      "0       208500\n",
      "1       181500\n",
      "2       223500\n",
      "3       140000\n",
      "4       250000\n",
      "         ...  \n",
      "1455    175000\n",
      "1456    210000\n",
      "1457    266500\n",
      "1458    142125\n",
      "1459    147500\n",
      "Name: SalePrice, Length: 1460, dtype: int64\n"
     ]
    }
   ],
   "source": [
    "pd.options.display.max_columns = None\n",
    "train_data = pd.read_csv('/kaggle/input/house-prices-advanced-regression-techniques/train.csv')\n",
    "#train_data = train_data.dropna(axis = 1)\n",
    "#also lets remove the output which is SalePrice in our case\n",
    "y_train_data = train_data['SalePrice']\n",
    "print(y_train_data)\n",
    "train_data = train_data.drop(['SalePrice'], axis = 1)"
   ]
  },
  {
   "cell_type": "code",
   "execution_count": 3,
   "id": "c6fe8e02",
   "metadata": {
    "execution": {
     "iopub.execute_input": "2024-07-08T12:33:12.350689Z",
     "iopub.status.busy": "2024-07-08T12:33:12.350308Z",
     "iopub.status.idle": "2024-07-08T12:33:12.410276Z",
     "shell.execute_reply": "2024-07-08T12:33:12.409081Z"
    },
    "papermill": {
     "duration": 0.068826,
     "end_time": "2024-07-08T12:33:12.412912",
     "exception": false,
     "start_time": "2024-07-08T12:33:12.344086",
     "status": "completed"
    },
    "tags": []
   },
   "outputs": [],
   "source": [
    "for col in train_data.columns:\n",
    "    train_data[col] = train_data[col].fillna(train_data[col].mode()[0])"
   ]
  },
  {
   "cell_type": "code",
   "execution_count": 4,
   "id": "05aaf7d9",
   "metadata": {
    "execution": {
     "iopub.execute_input": "2024-07-08T12:33:12.424373Z",
     "iopub.status.busy": "2024-07-08T12:33:12.424006Z",
     "iopub.status.idle": "2024-07-08T12:33:12.516638Z",
     "shell.execute_reply": "2024-07-08T12:33:12.515593Z"
    },
    "papermill": {
     "duration": 0.101319,
     "end_time": "2024-07-08T12:33:12.519073",
     "exception": false,
     "start_time": "2024-07-08T12:33:12.417754",
     "status": "completed"
    },
    "tags": []
   },
   "outputs": [
    {
     "data": {
      "text/html": [
       "<div>\n",
       "<style scoped>\n",
       "    .dataframe tbody tr th:only-of-type {\n",
       "        vertical-align: middle;\n",
       "    }\n",
       "\n",
       "    .dataframe tbody tr th {\n",
       "        vertical-align: top;\n",
       "    }\n",
       "\n",
       "    .dataframe thead th {\n",
       "        text-align: right;\n",
       "    }\n",
       "</style>\n",
       "<table border=\"1\" class=\"dataframe\">\n",
       "  <thead>\n",
       "    <tr style=\"text-align: right;\">\n",
       "      <th></th>\n",
       "      <th>MSZoning</th>\n",
       "      <th>Street</th>\n",
       "      <th>Alley</th>\n",
       "      <th>LotShape</th>\n",
       "      <th>LandContour</th>\n",
       "      <th>Utilities</th>\n",
       "      <th>LotConfig</th>\n",
       "      <th>LandSlope</th>\n",
       "      <th>Neighborhood</th>\n",
       "      <th>Condition1</th>\n",
       "      <th>Condition2</th>\n",
       "      <th>BldgType</th>\n",
       "      <th>HouseStyle</th>\n",
       "      <th>RoofStyle</th>\n",
       "      <th>RoofMatl</th>\n",
       "      <th>Exterior1st</th>\n",
       "      <th>Exterior2nd</th>\n",
       "      <th>MasVnrType</th>\n",
       "      <th>ExterQual</th>\n",
       "      <th>ExterCond</th>\n",
       "      <th>Foundation</th>\n",
       "      <th>BsmtQual</th>\n",
       "      <th>BsmtCond</th>\n",
       "      <th>BsmtExposure</th>\n",
       "      <th>BsmtFinType1</th>\n",
       "      <th>BsmtFinType2</th>\n",
       "      <th>Heating</th>\n",
       "      <th>HeatingQC</th>\n",
       "      <th>CentralAir</th>\n",
       "      <th>Electrical</th>\n",
       "      <th>KitchenQual</th>\n",
       "      <th>Functional</th>\n",
       "      <th>FireplaceQu</th>\n",
       "      <th>GarageType</th>\n",
       "      <th>GarageFinish</th>\n",
       "      <th>GarageQual</th>\n",
       "      <th>GarageCond</th>\n",
       "      <th>PavedDrive</th>\n",
       "      <th>PoolQC</th>\n",
       "      <th>Fence</th>\n",
       "      <th>MiscFeature</th>\n",
       "      <th>SaleType</th>\n",
       "      <th>SaleCondition</th>\n",
       "    </tr>\n",
       "  </thead>\n",
       "  <tbody>\n",
       "    <tr>\n",
       "      <th>count</th>\n",
       "      <td>1460</td>\n",
       "      <td>1460</td>\n",
       "      <td>1460</td>\n",
       "      <td>1460</td>\n",
       "      <td>1460</td>\n",
       "      <td>1460</td>\n",
       "      <td>1460</td>\n",
       "      <td>1460</td>\n",
       "      <td>1460</td>\n",
       "      <td>1460</td>\n",
       "      <td>1460</td>\n",
       "      <td>1460</td>\n",
       "      <td>1460</td>\n",
       "      <td>1460</td>\n",
       "      <td>1460</td>\n",
       "      <td>1460</td>\n",
       "      <td>1460</td>\n",
       "      <td>1460</td>\n",
       "      <td>1460</td>\n",
       "      <td>1460</td>\n",
       "      <td>1460</td>\n",
       "      <td>1460</td>\n",
       "      <td>1460</td>\n",
       "      <td>1460</td>\n",
       "      <td>1460</td>\n",
       "      <td>1460</td>\n",
       "      <td>1460</td>\n",
       "      <td>1460</td>\n",
       "      <td>1460</td>\n",
       "      <td>1460</td>\n",
       "      <td>1460</td>\n",
       "      <td>1460</td>\n",
       "      <td>1460</td>\n",
       "      <td>1460</td>\n",
       "      <td>1460</td>\n",
       "      <td>1460</td>\n",
       "      <td>1460</td>\n",
       "      <td>1460</td>\n",
       "      <td>1460</td>\n",
       "      <td>1460</td>\n",
       "      <td>1460</td>\n",
       "      <td>1460</td>\n",
       "      <td>1460</td>\n",
       "    </tr>\n",
       "    <tr>\n",
       "      <th>unique</th>\n",
       "      <td>5</td>\n",
       "      <td>2</td>\n",
       "      <td>2</td>\n",
       "      <td>4</td>\n",
       "      <td>4</td>\n",
       "      <td>2</td>\n",
       "      <td>5</td>\n",
       "      <td>3</td>\n",
       "      <td>25</td>\n",
       "      <td>9</td>\n",
       "      <td>8</td>\n",
       "      <td>5</td>\n",
       "      <td>8</td>\n",
       "      <td>6</td>\n",
       "      <td>8</td>\n",
       "      <td>15</td>\n",
       "      <td>16</td>\n",
       "      <td>3</td>\n",
       "      <td>4</td>\n",
       "      <td>5</td>\n",
       "      <td>6</td>\n",
       "      <td>4</td>\n",
       "      <td>4</td>\n",
       "      <td>4</td>\n",
       "      <td>6</td>\n",
       "      <td>6</td>\n",
       "      <td>6</td>\n",
       "      <td>5</td>\n",
       "      <td>2</td>\n",
       "      <td>5</td>\n",
       "      <td>4</td>\n",
       "      <td>7</td>\n",
       "      <td>5</td>\n",
       "      <td>6</td>\n",
       "      <td>3</td>\n",
       "      <td>5</td>\n",
       "      <td>5</td>\n",
       "      <td>3</td>\n",
       "      <td>3</td>\n",
       "      <td>4</td>\n",
       "      <td>4</td>\n",
       "      <td>9</td>\n",
       "      <td>6</td>\n",
       "    </tr>\n",
       "    <tr>\n",
       "      <th>top</th>\n",
       "      <td>RL</td>\n",
       "      <td>Pave</td>\n",
       "      <td>Grvl</td>\n",
       "      <td>Reg</td>\n",
       "      <td>Lvl</td>\n",
       "      <td>AllPub</td>\n",
       "      <td>Inside</td>\n",
       "      <td>Gtl</td>\n",
       "      <td>NAmes</td>\n",
       "      <td>Norm</td>\n",
       "      <td>Norm</td>\n",
       "      <td>1Fam</td>\n",
       "      <td>1Story</td>\n",
       "      <td>Gable</td>\n",
       "      <td>CompShg</td>\n",
       "      <td>VinylSd</td>\n",
       "      <td>VinylSd</td>\n",
       "      <td>BrkFace</td>\n",
       "      <td>TA</td>\n",
       "      <td>TA</td>\n",
       "      <td>PConc</td>\n",
       "      <td>TA</td>\n",
       "      <td>TA</td>\n",
       "      <td>No</td>\n",
       "      <td>Unf</td>\n",
       "      <td>Unf</td>\n",
       "      <td>GasA</td>\n",
       "      <td>Ex</td>\n",
       "      <td>Y</td>\n",
       "      <td>SBrkr</td>\n",
       "      <td>TA</td>\n",
       "      <td>Typ</td>\n",
       "      <td>Gd</td>\n",
       "      <td>Attchd</td>\n",
       "      <td>Unf</td>\n",
       "      <td>TA</td>\n",
       "      <td>TA</td>\n",
       "      <td>Y</td>\n",
       "      <td>Gd</td>\n",
       "      <td>MnPrv</td>\n",
       "      <td>Shed</td>\n",
       "      <td>WD</td>\n",
       "      <td>Normal</td>\n",
       "    </tr>\n",
       "    <tr>\n",
       "      <th>freq</th>\n",
       "      <td>1151</td>\n",
       "      <td>1454</td>\n",
       "      <td>1419</td>\n",
       "      <td>925</td>\n",
       "      <td>1311</td>\n",
       "      <td>1459</td>\n",
       "      <td>1052</td>\n",
       "      <td>1382</td>\n",
       "      <td>225</td>\n",
       "      <td>1260</td>\n",
       "      <td>1445</td>\n",
       "      <td>1220</td>\n",
       "      <td>726</td>\n",
       "      <td>1141</td>\n",
       "      <td>1434</td>\n",
       "      <td>515</td>\n",
       "      <td>504</td>\n",
       "      <td>1317</td>\n",
       "      <td>906</td>\n",
       "      <td>1282</td>\n",
       "      <td>647</td>\n",
       "      <td>686</td>\n",
       "      <td>1348</td>\n",
       "      <td>991</td>\n",
       "      <td>467</td>\n",
       "      <td>1294</td>\n",
       "      <td>1428</td>\n",
       "      <td>741</td>\n",
       "      <td>1365</td>\n",
       "      <td>1335</td>\n",
       "      <td>735</td>\n",
       "      <td>1360</td>\n",
       "      <td>1070</td>\n",
       "      <td>951</td>\n",
       "      <td>686</td>\n",
       "      <td>1392</td>\n",
       "      <td>1407</td>\n",
       "      <td>1340</td>\n",
       "      <td>1456</td>\n",
       "      <td>1336</td>\n",
       "      <td>1455</td>\n",
       "      <td>1267</td>\n",
       "      <td>1198</td>\n",
       "    </tr>\n",
       "  </tbody>\n",
       "</table>\n",
       "</div>"
      ],
      "text/plain": [
       "       MSZoning Street Alley LotShape LandContour Utilities LotConfig  \\\n",
       "count      1460   1460  1460     1460        1460      1460      1460   \n",
       "unique        5      2     2        4           4         2         5   \n",
       "top          RL   Pave  Grvl      Reg         Lvl    AllPub    Inside   \n",
       "freq       1151   1454  1419      925        1311      1459      1052   \n",
       "\n",
       "       LandSlope Neighborhood Condition1 Condition2 BldgType HouseStyle  \\\n",
       "count       1460         1460       1460       1460     1460       1460   \n",
       "unique         3           25          9          8        5          8   \n",
       "top          Gtl        NAmes       Norm       Norm     1Fam     1Story   \n",
       "freq        1382          225       1260       1445     1220        726   \n",
       "\n",
       "       RoofStyle RoofMatl Exterior1st Exterior2nd MasVnrType ExterQual  \\\n",
       "count       1460     1460        1460        1460       1460      1460   \n",
       "unique         6        8          15          16          3         4   \n",
       "top        Gable  CompShg     VinylSd     VinylSd    BrkFace        TA   \n",
       "freq        1141     1434         515         504       1317       906   \n",
       "\n",
       "       ExterCond Foundation BsmtQual BsmtCond BsmtExposure BsmtFinType1  \\\n",
       "count       1460       1460     1460     1460         1460         1460   \n",
       "unique         5          6        4        4            4            6   \n",
       "top           TA      PConc       TA       TA           No          Unf   \n",
       "freq        1282        647      686     1348          991          467   \n",
       "\n",
       "       BsmtFinType2 Heating HeatingQC CentralAir Electrical KitchenQual  \\\n",
       "count          1460    1460      1460       1460       1460        1460   \n",
       "unique            6       6         5          2          5           4   \n",
       "top             Unf    GasA        Ex          Y      SBrkr          TA   \n",
       "freq           1294    1428       741       1365       1335         735   \n",
       "\n",
       "       Functional FireplaceQu GarageType GarageFinish GarageQual GarageCond  \\\n",
       "count        1460        1460       1460         1460       1460       1460   \n",
       "unique          7           5          6            3          5          5   \n",
       "top           Typ          Gd     Attchd          Unf         TA         TA   \n",
       "freq         1360        1070        951          686       1392       1407   \n",
       "\n",
       "       PavedDrive PoolQC  Fence MiscFeature SaleType SaleCondition  \n",
       "count        1460   1460   1460        1460     1460          1460  \n",
       "unique          3      3      4           4        9             6  \n",
       "top             Y     Gd  MnPrv        Shed       WD        Normal  \n",
       "freq         1340   1456   1336        1455     1267          1198  "
      ]
     },
     "execution_count": 4,
     "metadata": {},
     "output_type": "execute_result"
    }
   ],
   "source": [
    "train_data.describe(include='object')"
   ]
  },
  {
   "cell_type": "code",
   "execution_count": 5,
   "id": "583a9d7b",
   "metadata": {
    "execution": {
     "iopub.execute_input": "2024-07-08T12:33:12.531102Z",
     "iopub.status.busy": "2024-07-08T12:33:12.530700Z",
     "iopub.status.idle": "2024-07-08T12:33:12.566000Z",
     "shell.execute_reply": "2024-07-08T12:33:12.564681Z"
    },
    "papermill": {
     "duration": 0.044336,
     "end_time": "2024-07-08T12:33:12.568577",
     "exception": false,
     "start_time": "2024-07-08T12:33:12.524241",
     "status": "completed"
    },
    "tags": []
   },
   "outputs": [],
   "source": [
    "test_data = pd.read_csv('/kaggle/input/house-prices-advanced-regression-techniques/test.csv')"
   ]
  },
  {
   "cell_type": "code",
   "execution_count": null,
   "id": "889a1b73",
   "metadata": {
    "papermill": {
     "duration": 0.004936,
     "end_time": "2024-07-08T12:33:12.578773",
     "exception": false,
     "start_time": "2024-07-08T12:33:12.573837",
     "status": "completed"
    },
    "tags": []
   },
   "outputs": [],
   "source": []
  },
  {
   "cell_type": "code",
   "execution_count": 6,
   "id": "ba0d42eb",
   "metadata": {
    "execution": {
     "iopub.execute_input": "2024-07-08T12:33:12.591191Z",
     "iopub.status.busy": "2024-07-08T12:33:12.590781Z",
     "iopub.status.idle": "2024-07-08T12:33:12.650017Z",
     "shell.execute_reply": "2024-07-08T12:33:12.648753Z"
    },
    "papermill": {
     "duration": 0.068721,
     "end_time": "2024-07-08T12:33:12.652873",
     "exception": false,
     "start_time": "2024-07-08T12:33:12.584152",
     "status": "completed"
    },
    "tags": []
   },
   "outputs": [],
   "source": [
    "#Alroght as our data has both continuous and discrete values, lets, figure out if the categorical values have order or not\n",
    "# I feel like all our categorical data doesnt have a natural ordering so lets use one hot encoding to encode this data\n",
    "cat_cols = train_data.select_dtypes(include = ['object']).columns\n",
    "encoded_train_data = pd.get_dummies(train_data, columns = cat_cols)\n",
    "encoded_train_data = encoded_train_data.drop(['Id'], axis = 1)"
   ]
  },
  {
   "cell_type": "code",
   "execution_count": 7,
   "id": "fc762dc7",
   "metadata": {
    "execution": {
     "iopub.execute_input": "2024-07-08T12:33:12.665222Z",
     "iopub.status.busy": "2024-07-08T12:33:12.664769Z",
     "iopub.status.idle": "2024-07-08T12:33:14.543168Z",
     "shell.execute_reply": "2024-07-08T12:33:14.541845Z"
    },
    "papermill": {
     "duration": 1.887546,
     "end_time": "2024-07-08T12:33:14.545755",
     "exception": false,
     "start_time": "2024-07-08T12:33:12.658209",
     "status": "completed"
    },
    "tags": []
   },
   "outputs": [
    {
     "data": {
      "text/plain": [
       "array([[ 0.07337496, -0.14618854, -0.20714171, ..., -0.11785113,\n",
       "         0.4676514 , -0.30599503],\n",
       "       [-0.87256276,  0.52499153, -0.09188637, ..., -0.11785113,\n",
       "         0.4676514 , -0.30599503],\n",
       "       [ 0.07337496, -0.01195252,  0.07347998, ..., -0.11785113,\n",
       "         0.4676514 , -0.30599503],\n",
       "       ...,\n",
       "       [ 0.30985939, -0.1014432 , -0.14781027, ..., -0.11785113,\n",
       "         0.4676514 , -0.30599503],\n",
       "       [-0.87256276, -0.01195252, -0.08016039, ..., -0.11785113,\n",
       "         0.4676514 , -0.30599503],\n",
       "       [-0.87256276,  0.30126484, -0.05811155, ..., -0.11785113,\n",
       "         0.4676514 , -0.30599503]])"
      ]
     },
     "execution_count": 7,
     "metadata": {},
     "output_type": "execute_result"
    }
   ],
   "source": [
    "#first I will standardize the data\n",
    "import numpy as np\n",
    "from sklearn.decomposition import PCA\n",
    "from sklearn.preprocessing import StandardScaler\n",
    "scaler = StandardScaler()\n",
    "train_data_std = scaler.fit_transform(encoded_train_data)\n",
    "train_data_std"
   ]
  },
  {
   "cell_type": "code",
   "execution_count": 8,
   "id": "863ff1fb",
   "metadata": {
    "execution": {
     "iopub.execute_input": "2024-07-08T12:33:14.558717Z",
     "iopub.status.busy": "2024-07-08T12:33:14.557812Z",
     "iopub.status.idle": "2024-07-08T12:33:14.776093Z",
     "shell.execute_reply": "2024-07-08T12:33:14.774324Z"
    },
    "papermill": {
     "duration": 0.228091,
     "end_time": "2024-07-08T12:33:14.779189",
     "exception": false,
     "start_time": "2024-07-08T12:33:14.551098",
     "status": "completed"
    },
    "tags": []
   },
   "outputs": [
    {
     "data": {
      "text/plain": [
       "array([[ 4.01601834e+00, -1.74947976e+00, -2.03872014e+00, ...,\n",
       "         1.82238141e-01, -8.34584157e-02,  6.28563565e-02],\n",
       "       [ 1.08089145e-01,  3.46748940e+00, -7.45594169e-01, ...,\n",
       "        -2.41285990e+00,  3.59343872e-01, -8.70081112e-01],\n",
       "       [ 4.78628830e+00, -7.42941338e-01, -1.30589022e+00, ...,\n",
       "        -1.37937520e-01,  1.10796873e-01,  2.85513788e-01],\n",
       "       ...,\n",
       "       [ 8.68128900e-01, -1.09558264e+00,  2.64876433e+00, ...,\n",
       "        -1.43619674e+00, -1.82017915e+00, -7.34080928e-01],\n",
       "       [-3.13561629e+00,  3.30099184e+00, -1.04259253e+00, ...,\n",
       "        -5.00861906e-03,  3.64594401e-01,  5.33355899e-01],\n",
       "       [-1.26095111e+00,  3.82280920e+00, -1.46456431e+00, ...,\n",
       "        -3.58665393e-03, -8.79416328e-01, -3.08125535e-01]])"
      ]
     },
     "execution_count": 8,
     "metadata": {},
     "output_type": "execute_result"
    }
   ],
   "source": [
    "#Now lets perform PCA\n",
    "pca = PCA(n_components = 150)\n",
    "\n",
    "pca.fit(train_data_std)\n",
    "train_data_pca = pca.transform(train_data_std)\n",
    "\n",
    "train_data_pca"
   ]
  },
  {
   "cell_type": "code",
   "execution_count": 9,
   "id": "1bc42c18",
   "metadata": {
    "execution": {
     "iopub.execute_input": "2024-07-08T12:33:14.815683Z",
     "iopub.status.busy": "2024-07-08T12:33:14.815144Z",
     "iopub.status.idle": "2024-07-08T12:33:14.877248Z",
     "shell.execute_reply": "2024-07-08T12:33:14.875904Z"
    },
    "papermill": {
     "duration": 0.086815,
     "end_time": "2024-07-08T12:33:14.880184",
     "exception": false,
     "start_time": "2024-07-08T12:33:14.793369",
     "status": "completed"
    },
    "tags": []
   },
   "outputs": [
    {
     "data": {
      "text/html": [
       "<style>#sk-container-id-1 {color: black;background-color: white;}#sk-container-id-1 pre{padding: 0;}#sk-container-id-1 div.sk-toggleable {background-color: white;}#sk-container-id-1 label.sk-toggleable__label {cursor: pointer;display: block;width: 100%;margin-bottom: 0;padding: 0.3em;box-sizing: border-box;text-align: center;}#sk-container-id-1 label.sk-toggleable__label-arrow:before {content: \"▸\";float: left;margin-right: 0.25em;color: #696969;}#sk-container-id-1 label.sk-toggleable__label-arrow:hover:before {color: black;}#sk-container-id-1 div.sk-estimator:hover label.sk-toggleable__label-arrow:before {color: black;}#sk-container-id-1 div.sk-toggleable__content {max-height: 0;max-width: 0;overflow: hidden;text-align: left;background-color: #f0f8ff;}#sk-container-id-1 div.sk-toggleable__content pre {margin: 0.2em;color: black;border-radius: 0.25em;background-color: #f0f8ff;}#sk-container-id-1 input.sk-toggleable__control:checked~div.sk-toggleable__content {max-height: 200px;max-width: 100%;overflow: auto;}#sk-container-id-1 input.sk-toggleable__control:checked~label.sk-toggleable__label-arrow:before {content: \"▾\";}#sk-container-id-1 div.sk-estimator input.sk-toggleable__control:checked~label.sk-toggleable__label {background-color: #d4ebff;}#sk-container-id-1 div.sk-label input.sk-toggleable__control:checked~label.sk-toggleable__label {background-color: #d4ebff;}#sk-container-id-1 input.sk-hidden--visually {border: 0;clip: rect(1px 1px 1px 1px);clip: rect(1px, 1px, 1px, 1px);height: 1px;margin: -1px;overflow: hidden;padding: 0;position: absolute;width: 1px;}#sk-container-id-1 div.sk-estimator {font-family: monospace;background-color: #f0f8ff;border: 1px dotted black;border-radius: 0.25em;box-sizing: border-box;margin-bottom: 0.5em;}#sk-container-id-1 div.sk-estimator:hover {background-color: #d4ebff;}#sk-container-id-1 div.sk-parallel-item::after {content: \"\";width: 100%;border-bottom: 1px solid gray;flex-grow: 1;}#sk-container-id-1 div.sk-label:hover label.sk-toggleable__label {background-color: #d4ebff;}#sk-container-id-1 div.sk-serial::before {content: \"\";position: absolute;border-left: 1px solid gray;box-sizing: border-box;top: 0;bottom: 0;left: 50%;z-index: 0;}#sk-container-id-1 div.sk-serial {display: flex;flex-direction: column;align-items: center;background-color: white;padding-right: 0.2em;padding-left: 0.2em;position: relative;}#sk-container-id-1 div.sk-item {position: relative;z-index: 1;}#sk-container-id-1 div.sk-parallel {display: flex;align-items: stretch;justify-content: center;background-color: white;position: relative;}#sk-container-id-1 div.sk-item::before, #sk-container-id-1 div.sk-parallel-item::before {content: \"\";position: absolute;border-left: 1px solid gray;box-sizing: border-box;top: 0;bottom: 0;left: 50%;z-index: -1;}#sk-container-id-1 div.sk-parallel-item {display: flex;flex-direction: column;z-index: 1;position: relative;background-color: white;}#sk-container-id-1 div.sk-parallel-item:first-child::after {align-self: flex-end;width: 50%;}#sk-container-id-1 div.sk-parallel-item:last-child::after {align-self: flex-start;width: 50%;}#sk-container-id-1 div.sk-parallel-item:only-child::after {width: 0;}#sk-container-id-1 div.sk-dashed-wrapped {border: 1px dashed gray;margin: 0 0.4em 0.5em 0.4em;box-sizing: border-box;padding-bottom: 0.4em;background-color: white;}#sk-container-id-1 div.sk-label label {font-family: monospace;font-weight: bold;display: inline-block;line-height: 1.2em;}#sk-container-id-1 div.sk-label-container {text-align: center;}#sk-container-id-1 div.sk-container {/* jupyter's `normalize.less` sets `[hidden] { display: none; }` but bootstrap.min.css set `[hidden] { display: none !important; }` so we also need the `!important` here to be able to override the default hidden behavior on the sphinx rendered scikit-learn.org. See: https://github.com/scikit-learn/scikit-learn/issues/21755 */display: inline-block !important;position: relative;}#sk-container-id-1 div.sk-text-repr-fallback {display: none;}</style><div id=\"sk-container-id-1\" class=\"sk-top-container\"><div class=\"sk-text-repr-fallback\"><pre>LinearRegression()</pre><b>In a Jupyter environment, please rerun this cell to show the HTML representation or trust the notebook. <br />On GitHub, the HTML representation is unable to render, please try loading this page with nbviewer.org.</b></div><div class=\"sk-container\" hidden><div class=\"sk-item\"><div class=\"sk-estimator sk-toggleable\"><input class=\"sk-toggleable__control sk-hidden--visually\" id=\"sk-estimator-id-1\" type=\"checkbox\" checked><label for=\"sk-estimator-id-1\" class=\"sk-toggleable__label sk-toggleable__label-arrow\">LinearRegression</label><div class=\"sk-toggleable__content\"><pre>LinearRegression()</pre></div></div></div></div></div>"
      ],
      "text/plain": [
       "LinearRegression()"
      ]
     },
     "execution_count": 9,
     "metadata": {},
     "output_type": "execute_result"
    }
   ],
   "source": [
    "#Now lets apply linear Regression\n",
    "import pandas as pd\n",
    "from sklearn.model_selection import train_test_split\n",
    "from sklearn.linear_model import LinearRegression\n",
    "from sklearn.metrics import mean_squared_error, r2_score\n",
    "\n",
    "model = LinearRegression()\n",
    "model.fit(train_data_pca, y_train_data)"
   ]
  },
  {
   "cell_type": "code",
   "execution_count": 10,
   "id": "f1f8cbbb",
   "metadata": {
    "execution": {
     "iopub.execute_input": "2024-07-08T12:33:14.901164Z",
     "iopub.status.busy": "2024-07-08T12:33:14.900584Z",
     "iopub.status.idle": "2024-07-08T12:33:14.947123Z",
     "shell.execute_reply": "2024-07-08T12:33:14.945457Z"
    },
    "papermill": {
     "duration": 0.062077,
     "end_time": "2024-07-08T12:33:14.951662",
     "exception": false,
     "start_time": "2024-07-08T12:33:14.889585",
     "status": "completed"
    },
    "tags": []
   },
   "outputs": [
    {
     "data": {
      "text/plain": [
       "Index(['Id', 'MSSubClass', 'MSZoning', 'LotFrontage', 'LotArea', 'Street',\n",
       "       'Alley', 'LotShape', 'LandContour', 'Utilities', 'LotConfig',\n",
       "       'LandSlope', 'Neighborhood', 'Condition1', 'Condition2', 'BldgType',\n",
       "       'HouseStyle', 'OverallQual', 'OverallCond', 'YearBuilt', 'YearRemodAdd',\n",
       "       'RoofStyle', 'RoofMatl', 'Exterior1st', 'Exterior2nd', 'MasVnrType',\n",
       "       'MasVnrArea', 'ExterQual', 'ExterCond', 'Foundation', 'BsmtQual',\n",
       "       'BsmtCond', 'BsmtExposure', 'BsmtFinType1', 'BsmtFinSF1',\n",
       "       'BsmtFinType2', 'BsmtFinSF2', 'BsmtUnfSF', 'TotalBsmtSF', 'Heating',\n",
       "       'HeatingQC', 'CentralAir', 'Electrical', '1stFlrSF', '2ndFlrSF',\n",
       "       'LowQualFinSF', 'GrLivArea', 'BsmtFullBath', 'BsmtHalfBath', 'FullBath',\n",
       "       'HalfBath', 'BedroomAbvGr', 'KitchenAbvGr', 'KitchenQual',\n",
       "       'TotRmsAbvGrd', 'Functional', 'Fireplaces', 'FireplaceQu', 'GarageType',\n",
       "       'GarageYrBlt', 'GarageFinish', 'GarageCars', 'GarageArea', 'GarageQual',\n",
       "       'GarageCond', 'PavedDrive', 'WoodDeckSF', 'OpenPorchSF',\n",
       "       'EnclosedPorch', '3SsnPorch', 'ScreenPorch', 'PoolArea', 'PoolQC',\n",
       "       'Fence', 'MiscFeature', 'MiscVal', 'MoSold', 'YrSold', 'SaleType',\n",
       "       'SaleCondition'],\n",
       "      dtype='object')"
      ]
     },
     "execution_count": 10,
     "metadata": {},
     "output_type": "execute_result"
    }
   ],
   "source": [
    "test_data = pd.read_csv('/kaggle/input/house-prices-advanced-regression-techniques/test.csv')\n",
    "test_data.columns"
   ]
  },
  {
   "cell_type": "code",
   "execution_count": 11,
   "id": "0aebc16c",
   "metadata": {
    "execution": {
     "iopub.execute_input": "2024-07-08T12:33:14.976384Z",
     "iopub.status.busy": "2024-07-08T12:33:14.975819Z",
     "iopub.status.idle": "2024-07-08T12:33:15.265530Z",
     "shell.execute_reply": "2024-07-08T12:33:15.264142Z"
    },
    "papermill": {
     "duration": 0.305146,
     "end_time": "2024-07-08T12:33:15.269124",
     "exception": false,
     "start_time": "2024-07-08T12:33:14.963978",
     "status": "completed"
    },
    "tags": []
   },
   "outputs": [],
   "source": [
    "#doing all the encoding,standardization, and cleansing for test_data also\n",
    "for col in test_data.columns:\n",
    "    test_data[col] = test_data[col].fillna(test_data[col].mode()[0])\n",
    "\n",
    "cat_cols = test_data.select_dtypes(include = ['object']).columns\n",
    "encoded_test_data = pd.get_dummies(test_data, columns = cat_cols)\n",
    "encoded_test_data = encoded_test_data.drop('Id', axis = 1)\n",
    "\n",
    "#columns that are not present in test data\n",
    "cols_to_add = encoded_train_data.columns.difference(encoded_test_data.columns)\n",
    "#creating the zero dataframe\n",
    "zero_df = pd.DataFrame(np.zeros((len(encoded_test_data), len(cols_to_add))), columns = cols_to_add)\n",
    "\n",
    "#concatinating B with the zeros\n",
    "encoded_test_data = pd.concat([encoded_test_data, zero_df], axis = 1)\n",
    "\n",
    "scaler = StandardScaler()\n",
    "test_data_std = scaler.fit_transform(encoded_test_data)\n",
    "\n",
    "pca = PCA(n_components = 150)\n",
    "\n",
    "pca.fit(test_data_std)\n",
    "test_data_pca = pca.transform(test_data_std)\n"
   ]
  },
  {
   "cell_type": "code",
   "execution_count": 12,
   "id": "37f18c26",
   "metadata": {
    "execution": {
     "iopub.execute_input": "2024-07-08T12:33:15.312364Z",
     "iopub.status.busy": "2024-07-08T12:33:15.311784Z",
     "iopub.status.idle": "2024-07-08T12:33:15.321420Z",
     "shell.execute_reply": "2024-07-08T12:33:15.320188Z"
    },
    "papermill": {
     "duration": 0.052172,
     "end_time": "2024-07-08T12:33:15.330750",
     "exception": false,
     "start_time": "2024-07-08T12:33:15.278578",
     "status": "completed"
    },
    "tags": []
   },
   "outputs": [
    {
     "data": {
      "text/plain": [
       "Index(['Condition2_RRAe', 'Condition2_RRAn', 'Condition2_RRNn',\n",
       "       'Electrical_Mix', 'Exterior1st_ImStucc', 'Exterior1st_Stone',\n",
       "       'Exterior2nd_Other', 'GarageQual_Ex', 'Heating_Floor', 'Heating_OthW',\n",
       "       'HouseStyle_2.5Fin', 'MiscFeature_TenC', 'PoolQC_Fa',\n",
       "       'RoofMatl_ClyTile', 'RoofMatl_Membran', 'RoofMatl_Metal',\n",
       "       'RoofMatl_Roll', 'Utilities_NoSeWa'],\n",
       "      dtype='object')"
      ]
     },
     "execution_count": 12,
     "metadata": {},
     "output_type": "execute_result"
    }
   ],
   "source": [
    "cols_to_add"
   ]
  },
  {
   "cell_type": "code",
   "execution_count": 13,
   "id": "44d3b8b5",
   "metadata": {
    "execution": {
     "iopub.execute_input": "2024-07-08T12:33:15.373699Z",
     "iopub.status.busy": "2024-07-08T12:33:15.373177Z",
     "iopub.status.idle": "2024-07-08T12:33:15.382367Z",
     "shell.execute_reply": "2024-07-08T12:33:15.380887Z"
    },
    "papermill": {
     "duration": 0.024246,
     "end_time": "2024-07-08T12:33:15.385802",
     "exception": false,
     "start_time": "2024-07-08T12:33:15.361556",
     "status": "completed"
    },
    "tags": []
   },
   "outputs": [],
   "source": [
    "y_predict = model.predict(test_data_pca)"
   ]
  },
  {
   "cell_type": "code",
   "execution_count": 14,
   "id": "2a8bbf44",
   "metadata": {
    "execution": {
     "iopub.execute_input": "2024-07-08T12:33:15.408198Z",
     "iopub.status.busy": "2024-07-08T12:33:15.407396Z",
     "iopub.status.idle": "2024-07-08T12:33:15.425136Z",
     "shell.execute_reply": "2024-07-08T12:33:15.423831Z"
    },
    "papermill": {
     "duration": 0.032707,
     "end_time": "2024-07-08T12:33:15.428390",
     "exception": false,
     "start_time": "2024-07-08T12:33:15.395683",
     "status": "completed"
    },
    "tags": []
   },
   "outputs": [],
   "source": [
    "output = pd.DataFrame({'Id':test_data.Id, 'SalePrice':y_predict})\n",
    "output.to_csv('submission.csv', index = False)"
   ]
  },
  {
   "cell_type": "code",
   "execution_count": null,
   "id": "b69dfc35",
   "metadata": {
    "papermill": {
     "duration": 0.009326,
     "end_time": "2024-07-08T12:33:15.447533",
     "exception": false,
     "start_time": "2024-07-08T12:33:15.438207",
     "status": "completed"
    },
    "tags": []
   },
   "outputs": [],
   "source": []
  },
  {
   "cell_type": "code",
   "execution_count": null,
   "id": "e1745a79",
   "metadata": {
    "papermill": {
     "duration": 0.009392,
     "end_time": "2024-07-08T12:33:15.466803",
     "exception": false,
     "start_time": "2024-07-08T12:33:15.457411",
     "status": "completed"
    },
    "tags": []
   },
   "outputs": [],
   "source": []
  },
  {
   "cell_type": "code",
   "execution_count": null,
   "id": "97379119",
   "metadata": {
    "papermill": {
     "duration": 0.011652,
     "end_time": "2024-07-08T12:33:15.488176",
     "exception": false,
     "start_time": "2024-07-08T12:33:15.476524",
     "status": "completed"
    },
    "tags": []
   },
   "outputs": [],
   "source": []
  }
 ],
 "metadata": {
  "kaggle": {
   "accelerator": "none",
   "dataSources": [
    {
     "databundleVersionId": 868283,
     "sourceId": 5407,
     "sourceType": "competition"
    }
   ],
   "dockerImageVersionId": 30732,
   "isGpuEnabled": false,
   "isInternetEnabled": false,
   "language": "python",
   "sourceType": "notebook"
  },
  "kernelspec": {
   "display_name": "Python 3",
   "language": "python",
   "name": "python3"
  },
  "language_info": {
   "codemirror_mode": {
    "name": "ipython",
    "version": 3
   },
   "file_extension": ".py",
   "mimetype": "text/x-python",
   "name": "python",
   "nbconvert_exporter": "python",
   "pygments_lexer": "ipython3",
   "version": "3.10.13"
  },
  "papermill": {
   "default_parameters": {},
   "duration": 7.96206,
   "end_time": "2024-07-08T12:33:16.121805",
   "environment_variables": {},
   "exception": null,
   "input_path": "__notebook__.ipynb",
   "output_path": "__notebook__.ipynb",
   "parameters": {},
   "start_time": "2024-07-08T12:33:08.159745",
   "version": "2.5.0"
  }
 },
 "nbformat": 4,
 "nbformat_minor": 5
}
